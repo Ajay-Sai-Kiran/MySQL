{
  "nbformat": 4,
  "nbformat_minor": 0,
  "metadata": {
    "colab": {
      "name": "MySQL_Create_Table.ipynb",
      "provenance": [],
      "collapsed_sections": [],
      "authorship_tag": "ABX9TyMF2m6Pa/sRnOm9Gsw+XR8c",
      "include_colab_link": true
    },
    "kernelspec": {
      "name": "python3",
      "display_name": "Python 3"
    },
    "language_info": {
      "name": "python"
    }
  },
  "cells": [
    {
      "cell_type": "markdown",
      "metadata": {
        "id": "view-in-github",
        "colab_type": "text"
      },
      "source": [
        "<a href=\"https://colab.research.google.com/github/Ajay-Sai-Kiran/MySQL/blob/main/MySQL_Create_Table.ipynb\" target=\"_parent\"><img src=\"https://colab.research.google.com/assets/colab-badge.svg\" alt=\"Open In Colab\"/></a>"
      ]
    },
    {
      "cell_type": "markdown",
      "metadata": {
        "id": "2gmEV42wucsI"
      },
      "source": [
        "#MySQL Create Table"
      ]
    },
    {
      "cell_type": "markdown",
      "metadata": {
        "id": "oX3M2A3Jupwe"
      },
      "source": [
        "1. Write a SQL statement to create a simple table countries including columns country_id,country_name and region_id."
      ]
    },
    {
      "cell_type": "markdown",
      "metadata": {
        "id": "b4EAQxmOurj-"
      },
      "source": [
        "CREATE TABLE countries( \n",
        "\n",
        "COUNTRY_ID varchar(2),\n",
        "\n",
        "COUNTRY_NAME varchar(40),\n",
        "\n",
        "REGION_ID decimal(10,0)\n",
        "\n",
        ");"
      ]
    },
    {
      "cell_type": "markdown",
      "metadata": {
        "id": "M09aKvaeu3wH"
      },
      "source": [
        "2.Write a SQL statement to create a simple table countries including columns country_id,country_name and region_id which is already exists."
      ]
    },
    {
      "cell_type": "markdown",
      "metadata": {
        "id": "BkafgbEku_VP"
      },
      "source": [
        "CREATE TABLE IF NOT EXISTS countries ( \n",
        "\n",
        "COUNTRY_ID varchar(2),\n",
        "\n",
        "COUNTRY_NAME varchar(40),\n",
        "\n",
        "REGION_ID decimal(10,0)\n",
        "\n",
        ");"
      ]
    },
    {
      "cell_type": "markdown",
      "metadata": {
        "id": "AdtgH2UqvCx_"
      },
      "source": [
        "3. Write a SQL statement to create the structure of a table dup_countries similar to countries."
      ]
    },
    {
      "cell_type": "markdown",
      "metadata": {
        "id": "5wOI7KvWvFKn"
      },
      "source": [
        "CREATE TABLE IF NOT EXISTS dup_countries\n",
        "\n",
        "LIKE countries;"
      ]
    },
    {
      "cell_type": "markdown",
      "metadata": {
        "id": "eTuJSfGMvU73"
      },
      "source": [
        "4. Write a SQL statement to create a duplicate copy of countries table including structure and data by name dup_countries."
      ]
    },
    {
      "cell_type": "markdown",
      "metadata": {
        "id": "UZbwSJaIvSdf"
      },
      "source": [
        "CREATE TABLE IF NOT EXISTS dup_countries\n",
        "\n",
        "AS SELECT * FROM  countries;"
      ]
    },
    {
      "cell_type": "markdown",
      "metadata": {
        "id": "nREfzANFvdvf"
      },
      "source": [
        "5.Write a SQL statement to create a table countries set a constraint NOT NULL."
      ]
    },
    {
      "cell_type": "markdown",
      "metadata": {
        "id": "OT0__LLovhF3"
      },
      "source": [
        "CREATE TABLE IF NOT EXISTS countries (\n",
        "\n",
        "COUNTRY_ID varchar(2) NOT NULL,\n",
        "\n",
        "COUNTRY_NAME varchar(40) NOT NULL,\n",
        "\n",
        "REGION_ID decimal(10,0) NOT NULL\n",
        "\n",
        ");"
      ]
    },
    {
      "cell_type": "markdown",
      "metadata": {
        "id": "Xol_gZQzvkwm"
      },
      "source": [
        "6.Write a SQL statement to create a table named jobs including columns job_id, job_title, min_salary, max_salary and check whether the max_salary amount exceeding the upper limit 25000."
      ]
    },
    {
      "cell_type": "markdown",
      "metadata": {
        "id": "YILD0gDOvo8o"
      },
      "source": [
        "CREATE TABLE IF NOT EXISTS jobs ( \n",
        "\n",
        "JOB_ID varchar(10) NOT NULL , \n",
        "\n",
        "JOB_TITLE varchar(35) NOT NULL, \n",
        "\n",
        "MIN_SALARY decimal(6,0), \n",
        "\n",
        "MAX_SALARY decimal(6,0) \n",
        "\n",
        "CHECK(MAX_SALARY<=25000)\n",
        "\n",
        ");"
      ]
    },
    {
      "cell_type": "markdown",
      "metadata": {
        "id": "kWw49lFYvtPQ"
      },
      "source": [
        "7. Write a SQL statement to create a table named countries including columns country_id, country_name and region_id and make sure that no countries except Italy, India and China will be entered in the table."
      ]
    },
    {
      "cell_type": "markdown",
      "metadata": {
        "id": "0iI0sxfyvv5-"
      },
      "source": [
        "CREATE TABLE IF NOT EXISTS countries ( \n",
        "\n",
        "COUNTRY_ID varchar(2),\n",
        "\n",
        "COUNTRY_NAME varchar(40)\n",
        "\n",
        "CHECK(COUNTRY_NAME IN('Italy','India','China'))\n",
        " ,\n",
        "REGION_ID decimal(10,0)\n",
        "\n",
        ");"
      ]
    },
    {
      "cell_type": "markdown",
      "metadata": {
        "id": "Zp5fWvTlv1cY"
      },
      "source": [
        "8. Write a SQL statement to create a table named job_histry including columns employee_id, start_date, end_date, job_id and department_id and make sure that the value against column end_date will be entered at the time of insertion to the format like '--/--/----'."
      ]
    },
    {
      "cell_type": "markdown",
      "metadata": {
        "id": "EmLJbpwBv4Vv"
      },
      "source": [
        "CREATE TABLE IF NOT EXISTS job_history ( \n",
        "\n",
        "EMPLOYEE_ID decimal(6,0) NOT NULL, \n",
        "\n",
        "START_DATE date NOT NULL, \n",
        "\n",
        "END_DATE date NOT NULL\n",
        "\n",
        "CHECK (END_DATE LIKE '--/--/----'), \n",
        "\n",
        "JOB_ID varchar(10) NOT NULL, \n",
        "\n",
        "DEPARTMENT_ID decimal(4,0) NOT NULL \n",
        "\n",
        ");"
      ]
    },
    {
      "cell_type": "markdown",
      "metadata": {
        "id": "auWYaotWv90P"
      },
      "source": [
        "9. Write a SQL statement to create a table named countries including columns country_id,country_name and region_id and make sure that no duplicate data against column country_id will be allowed at the time of insertion."
      ]
    },
    {
      "cell_type": "markdown",
      "metadata": {
        "id": "hWosYWNowCUP"
      },
      "source": [
        "CREATE TABLE IF NOT EXISTS countries ( \n",
        "\n",
        "COUNTRY_ID varchar(2) NOT NULL,\n",
        "\n",
        "COUNTRY_NAME varchar(40) NOT NULL,\n",
        "\n",
        "REGION_ID decimal(10,0) NOT NULL,\n",
        "\n",
        "UNIQUE(COUNTRY_ID)\n",
        "\n",
        ");"
      ]
    },
    {
      "cell_type": "markdown",
      "metadata": {
        "id": "AiZ-WI_7wGuf"
      },
      "source": [
        "10. Write a SQL statement to create a table named jobs including columns job_id, job_title, min_salary and max_salary, and make sure that, the default value for job_title is blank and min_salary is 8000 and max_salary is NULL will be entered automatically at the time of insertion if no value assigned for the specified columns."
      ]
    },
    {
      "cell_type": "markdown",
      "metadata": {
        "id": "DcAcF9xewJVP"
      },
      "source": [
        "CREATE TABLE IF NOT EXISTS jobs ( \n",
        "\n",
        "JOB_ID varchar(10) NOT NULL UNIQUE, \n",
        "\n",
        "JOB_TITLE varchar(35) NOT NULL DEFAULT ' ',\n",
        "\n",
        "MIN_SALARY decimal(6,0) DEFAULT 8000, \n",
        "\n",
        "MAX_SALARY decimal(6,0) DEFAULT NULL\n",
        "\n",
        ");"
      ]
    }
  ]
}